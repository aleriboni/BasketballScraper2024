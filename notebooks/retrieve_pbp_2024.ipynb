{
 "cells": [
  {
   "cell_type": "code",
   "execution_count": 5,
   "metadata": {},
   "outputs": [],
   "source": [
    "from tqdm import tqdm\n",
    "import pandas as pd\n",
    "import pbp_utils\n",
    "\n",
    "AUTH = pbp_utils.retrieve_auth_bearer()"
   ]
  },
  {
   "cell_type": "code",
   "execution_count": 6,
   "metadata": {},
   "outputs": [
    {
     "name": "stdout",
     "output_type": "stream",
     "text": [
      "Bearer tX9xRdABAKkZhBzBtUCZ4Hje-Kc1d6GDrEGsZqKVGXY\n"
     ]
    }
   ],
   "source": [
    "print(AUTH)"
   ]
  },
  {
   "cell_type": "markdown",
   "metadata": {},
   "source": [
    "### PBP 2023/2024"
   ]
  },
  {
   "cell_type": "code",
   "execution_count": 8,
   "metadata": {},
   "outputs": [
    {
     "name": "stderr",
     "output_type": "stream",
     "text": [
      "  0%|          | 0/144 [00:00<?, ?it/s]C:\\Users\\ribon\\AppData\\Local\\Temp\\ipykernel_10932\\4219500154.py:51: FutureWarning: The behavior of DataFrame concatenation with empty or all-NA entries is deprecated. In a future version, this will no longer exclude empty or all-NA columns when determining the result dtypes. To retain the old behavior, exclude the relevant entries before the concat operation.\n",
      "  pbp_df = pd.concat([pbp_df, pd.DataFrame(actions)], ignore_index=True)\n",
      "100%|██████████| 144/144 [04:22<00:00,  1.82s/it]\n"
     ]
    }
   ],
   "source": [
    "# season 2023 - 2024\n",
    "url_base = 'https://api-lba.procne.cloud/api/v1/'\n",
    "url_calendar = 'championships/530/calendar?d='\n",
    "\n",
    "\n",
    "matches_2023 = []\n",
    "\n",
    "for day in range(1,31):\n",
    "    response = pbp_utils.retrieve_info(url_base + url_calendar + str(day), auth=AUTH)\n",
    "    if response:\n",
    "        matches_2023.append(response['matches'])\n",
    "    else:\n",
    "        print(\"Impossibile recuperare i dati della giornata\")\n",
    "\n",
    "games = pbp_utils.retrieve_games(matches_2023)\n",
    "\n",
    "#players_df = pd.DataFrame(\n",
    "#    columns=['Team', 'Player', 'MIN', 'PTS', 'P2M', 'P2A', 'P3M', 'P3A', 'FTM', 'FTA', 'OREB', 'DREB',\n",
    "#                'AST', 'TOV', 'STL', 'BLK', 'PF', 'PM'])\n",
    "#team_df = pd.DataFrame(\n",
    "#    columns=['Team', 'MIN', 'PTS', 'P2M', 'P2A', 'P3M', 'P3A', 'FTM', 'FTA', 'OREB', 'DREB', 'AST', 'TOV',\n",
    "#                'STL', 'BLK', 'PF', 'PM'])\n",
    "#opponent_df = pd.DataFrame(\n",
    "#    columns=['Team', 'MIN', 'PTS', 'P2M', 'P2A', 'P3M', 'P3A', 'FTM', 'FTA', 'OREB', 'DREB', 'AST', 'TOV',\n",
    "#                'STL', 'BLK', 'PF', 'PM'])\n",
    "pbp_df = pd.DataFrame(\n",
    "    columns=['game_id', 'data_set', 'date', 'a1', 'a2', 'a3', 'a4', 'a5', 'h1', 'h2', 'h3', 'h4', 'h5',\n",
    "                'period', 'home_score', 'away_score', 'remaining_time', 'elapsed_time', 'play_length',\n",
    "                'play_id', 'team', 'event_type', 'assist', 'away', 'home', 'block', 'entered', 'left', 'num',\n",
    "                'opponent', 'outof', 'player', 'points', 'possession', 'reason', 'result', 'steal', 'type',\n",
    "                'shot_distance', 'original_x', 'original_y', 'converted_x', 'converted_y', 'description'])\n",
    "\n",
    "for game in tqdm(sorted(games, key=lambda game: game['game_id'])):\n",
    "    game_id = game['game_id']\n",
    "    if game_id not in {24095, 24114}:\n",
    "        url_scores = f'championships_matches/{game_id}/scores?info=1'\n",
    "        url_pbp = f'championships_matches/{game_id}/play_by_play?info=1&sort=asc'\n",
    "\n",
    "        # retrieve starters\n",
    "        response_scores = pbp_utils.retrieve_info(url_base + url_scores, auth=AUTH)\n",
    "        ht_name = response_scores['match']['h_team_name']\n",
    "        vt_name = response_scores['match']['v_team_name']\n",
    "        starters = pbp_utils.retrieve_starters(response_scores['scores'])\n",
    "\n",
    "        # retrieve pbp\n",
    "        response_pbp = pbp_utils.retrieve_info(url_base + url_pbp, auth=AUTH)\n",
    "        raw_actions = response_pbp['pbp']['actions']\n",
    "        raw_actions = pbp_utils.handle_substitutions(raw_actions=raw_actions, starters=starters, game_id=game_id)\n",
    "        raw_actions = pbp_utils.add_ft_count(raw_actions)\n",
    "        actions = pbp_utils.create_actions(game, raw_actions)\n",
    "        pbp_df = pd.concat([pbp_df, pd.DataFrame(actions)], ignore_index=True)\n",
    "\n",
    "pbp_df.to_csv('../csvs/PBP_2023_2024.csv')"
   ]
  },
  {
   "cell_type": "markdown",
   "metadata": {},
   "source": [
    "### PBP 2023/2024 without substitutions"
   ]
  },
  {
   "cell_type": "code",
   "execution_count": 9,
   "metadata": {},
   "outputs": [
    {
     "name": "stderr",
     "output_type": "stream",
     "text": [
      "  0%|          | 0/144 [00:00<?, ?it/s]C:\\Users\\ribon\\AppData\\Local\\Temp\\ipykernel_10932\\1835271926.py:50: FutureWarning: The behavior of DataFrame concatenation with empty or all-NA entries is deprecated. In a future version, this will no longer exclude empty or all-NA columns when determining the result dtypes. To retain the old behavior, exclude the relevant entries before the concat operation.\n",
      "  pbp_df = pd.concat([pbp_df, pd.DataFrame(actions)], ignore_index=True)\n",
      "100%|██████████| 144/144 [04:38<00:00,  1.94s/it]\n"
     ]
    }
   ],
   "source": [
    "# season 2023 - 2024\n",
    "url_base = 'https://api-lba.procne.cloud/api/v1/'\n",
    "url_calendar = 'championships/530/calendar?d='\n",
    "\n",
    "matches_2023 = []\n",
    "\n",
    "for day in range(1,31):\n",
    "    response = pbp_utils.retrieve_info(url_base + url_calendar + str(day), auth=AUTH)\n",
    "    if response:\n",
    "        matches_2023.append(response['matches'])\n",
    "    else:\n",
    "        print(\"Impossibile recuperare i dati della giornata\")\n",
    "\n",
    "games = pbp_utils.retrieve_games(matches_2023)\n",
    "\n",
    "#players_df = pd.DataFrame(\n",
    "#    columns=['Team', 'Player', 'MIN', 'PTS', 'P2M', 'P2A', 'P3M', 'P3A', 'FTM', 'FTA', 'OREB', 'DREB',\n",
    "#                'AST', 'TOV', 'STL', 'BLK', 'PF', 'PM'])\n",
    "#team_df = pd.DataFrame(\n",
    "#    columns=['Team', 'MIN', 'PTS', 'P2M', 'P2A', 'P3M', 'P3A', 'FTM', 'FTA', 'OREB', 'DREB', 'AST', 'TOV',\n",
    "#                'STL', 'BLK', 'PF', 'PM'])\n",
    "#opponent_df = pd.DataFrame(\n",
    "#    columns=['Team', 'MIN', 'PTS', 'P2M', 'P2A', 'P3M', 'P3A', 'FTM', 'FTA', 'OREB', 'DREB', 'AST', 'TOV',\n",
    "#                'STL', 'BLK', 'PF', 'PM'])\n",
    "pbp_df = pd.DataFrame(\n",
    "    columns=['game_id', 'data_set', 'date', 'a1', 'a2', 'a3', 'a4', 'a5', 'h1', 'h2', 'h3', 'h4', 'h5',\n",
    "                'period', 'home_score', 'away_score', 'remaining_time', 'elapsed_time', 'play_length',\n",
    "                'play_id', 'team', 'event_type', 'assist', 'away', 'home', 'block', 'entered', 'left', 'num',\n",
    "                'opponent', 'outof', 'player', 'points', 'possession', 'reason', 'result', 'steal', 'type',\n",
    "                'shot_distance', 'original_x', 'original_y', 'converted_x', 'converted_y', 'description'])\n",
    "\n",
    "for game in tqdm(sorted(games, key=lambda game: game['game_id'])):\n",
    "    game_id = game['game_id']\n",
    "\n",
    "    url_scores = f'championships_matches/{game_id}/scores?info=1'\n",
    "    url_pbp = f'championships_matches/{game_id}/play_by_play?info=1&sort=asc'\n",
    "\n",
    "    # retrieve starters\n",
    "    response_scores = pbp_utils.retrieve_info(url_base + url_scores, auth=AUTH)\n",
    "    ht_name = response_scores['match']['h_team_name']\n",
    "    vt_name = response_scores['match']['v_team_name']\n",
    "    starters = pbp_utils.retrieve_starters(response_scores['scores'])\n",
    "\n",
    "    # retrieve pbp\n",
    "    response_pbp = pbp_utils.retrieve_info(url_base + url_pbp, auth=AUTH)\n",
    "    raw_actions = response_pbp['pbp']['actions']\n",
    "    raw_actions = pbp_utils.remove_substitutions(raw_actions)\n",
    "    raw_actions = pbp_utils.add_ft_count(raw_actions)\n",
    "    actions = pbp_utils.create_actions(game, raw_actions , substitutions=False)\n",
    "    pbp_df = pd.concat([pbp_df, pd.DataFrame(actions)], ignore_index=True)\n",
    "\n",
    "pbp_df.to_csv('../csvs/PBP_2023_2024_without_substitutions.csv')\n"
   ]
  },
  {
   "cell_type": "code",
   "execution_count": null,
   "metadata": {},
   "outputs": [],
   "source": []
  }
 ],
 "metadata": {
  "kernelspec": {
   "display_name": "BasketballScrapeR",
   "language": "python",
   "name": "python3"
  },
  "language_info": {
   "codemirror_mode": {
    "name": "ipython",
    "version": 3
   },
   "file_extension": ".py",
   "mimetype": "text/x-python",
   "name": "python",
   "nbconvert_exporter": "python",
   "pygments_lexer": "ipython3",
   "version": "3.12.1"
  }
 },
 "nbformat": 4,
 "nbformat_minor": 2
}
